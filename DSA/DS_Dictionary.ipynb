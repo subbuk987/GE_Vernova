{
  "nbformat": 4,
  "nbformat_minor": 0,
  "metadata": {
    "colab": {
      "provenance": []
    },
    "kernelspec": {
      "name": "python3",
      "display_name": "Python 3"
    },
    "language_info": {
      "name": "python"
    }
  },
  "cells": [
    {
      "cell_type": "markdown",
      "source": [
        "# Dictionary"
      ],
      "metadata": {
        "id": "Fe-pTyNri1Mw"
      }
    },
    {
      "cell_type": "markdown",
      "source": [
        "###1. Write a Python script to sort (ascending and descending) a dictionary by value."
      ],
      "metadata": {
        "id": "wH4Cilxvi7je"
      }
    },
    {
      "cell_type": "code",
      "execution_count": 6,
      "metadata": {
        "colab": {
          "base_uri": "https://localhost:8080/"
        },
        "id": "HAVrz60XipIK",
        "outputId": "e20e17b0-7e59-49e6-d88d-02b9b4beb951"
      },
      "outputs": [
        {
          "output_type": "stream",
          "name": "stdout",
          "text": [
            "Ascending order: [(5, 1), (4, 2), (3, 3), (2, 4), (1, 5)]\n",
            "Descending order: [(1, 5), (2, 4), (3, 3), (4, 2), (5, 1)]\n"
          ]
        }
      ],
      "source": [
        "dicts = {\n",
        "    1 : 5,\n",
        "    2 : 4,\n",
        "    3 : 3,\n",
        "    4 : 2,\n",
        "    5 : 1,\n",
        "}\n",
        "\n",
        "print(f\"Ascending order: {sorted(dicts.items(),key=lambda x : x[1])}\")\n",
        "print(f\"Descending order: {sorted(dicts.items(),key=lambda x : x[1],reverse=True)}\")"
      ]
    },
    {
      "cell_type": "markdown",
      "source": [
        "###2. Write a Python script to add a key to a dictionary.\n",
        "###Sample Dictionary : {0: 10, 1: 20}\n",
        "###Expected Result : {0: 10, 1: 20, 2: 30}"
      ],
      "metadata": {
        "id": "G-yDqo2tj1tn"
      }
    },
    {
      "cell_type": "code",
      "source": [
        "dicts = {0: 10, 1: 20}\n",
        "key, value = 2, 30\n",
        "\n",
        "dicts[key] = value\n",
        "dicts"
      ],
      "metadata": {
        "colab": {
          "base_uri": "https://localhost:8080/"
        },
        "id": "quNLWkL9jSle",
        "outputId": "9f674756-b05a-4b2d-b4e4-9778318a3e17"
      },
      "execution_count": 7,
      "outputs": [
        {
          "output_type": "execute_result",
          "data": {
            "text/plain": [
              "{0: 10, 1: 20, 2: 30}"
            ]
          },
          "metadata": {},
          "execution_count": 7
        }
      ]
    },
    {
      "cell_type": "markdown",
      "source": [
        "###3. Write a Python script to concatenate following dictionaries to create a new one.\n",
        "###Sample Dictionary :\n",
        "###dic1={1:10, 2:20}\n",
        "###dic2={3:30, 4:40}\n",
        "###dic3={5:50,6:60}\n",
        "###Expected Result : {1: 10, 2: 20, 3: 30, 4: 40, 5: 50, 6: 60}"
      ],
      "metadata": {
        "id": "L8-0gtD4kKYQ"
      }
    },
    {
      "cell_type": "code",
      "source": [
        "dic1 = {1:10, 2:20}\n",
        "dic2 = {3:30, 4:40}\n",
        "dic3 = {5:50,6:60}\n",
        "new_dict = {**dic1, **dic2, **dic3}\n",
        "\n",
        "new_dict"
      ],
      "metadata": {
        "colab": {
          "base_uri": "https://localhost:8080/"
        },
        "id": "am0asH-SkGwK",
        "outputId": "123930ea-6df8-48c6-86b8-17891baf55bb"
      },
      "execution_count": 9,
      "outputs": [
        {
          "output_type": "execute_result",
          "data": {
            "text/plain": [
              "{1: 10, 2: 20, 3: 30, 4: 40, 5: 50, 6: 60}"
            ]
          },
          "metadata": {},
          "execution_count": 9
        }
      ]
    },
    {
      "cell_type": "markdown",
      "source": [
        "###4. Write a Python program to iterate over dictionaries using for loops."
      ],
      "metadata": {
        "id": "2kcr3wcelEk9"
      }
    },
    {
      "cell_type": "code",
      "source": [
        "dicts = {1: 10, 2: 20, 3: 30, 4: 40, 5: 50, 6: 60}\n",
        "\n",
        "for key, value in dicts.items():\n",
        "  print(f\"key : {key}, Value : {value}\")"
      ],
      "metadata": {
        "colab": {
          "base_uri": "https://localhost:8080/"
        },
        "id": "4xUtwtcsks12",
        "outputId": "920a4744-38ab-4809-8146-b23481de1e82"
      },
      "execution_count": 10,
      "outputs": [
        {
          "output_type": "stream",
          "name": "stdout",
          "text": [
            "key : 1, Value : 10\n",
            "key : 2, Value : 20\n",
            "key : 3, Value : 30\n",
            "key : 4, Value : 40\n",
            "key : 5, Value : 50\n",
            "key : 6, Value : 60\n"
          ]
        }
      ]
    },
    {
      "cell_type": "markdown",
      "source": [
        "###5. Write a Python script to generate and print a dictionary that contains a number (between 1 and n) in the form (x, x*x).\n",
        "###Sample Dictionary ( n = 5) :\n",
        "###Expected Output : {1: 1, 2: 4, 3: 9, 4: 16, 5: 25}"
      ],
      "metadata": {
        "id": "g5z5ryY1lbYD"
      }
    },
    {
      "cell_type": "code",
      "source": [
        "n = 5\n",
        "dicts = {}\n",
        "for i in range(1,n+1):\n",
        "  dicts[i] = i**2\n",
        "dicts"
      ],
      "metadata": {
        "colab": {
          "base_uri": "https://localhost:8080/"
        },
        "id": "Nh_4LdqNlYxt",
        "outputId": "c312cab4-2ef4-4055-8eee-2d29fe6c3354"
      },
      "execution_count": 12,
      "outputs": [
        {
          "output_type": "execute_result",
          "data": {
            "text/plain": [
              "{1: 1, 2: 4, 3: 9, 4: 16, 5: 25}"
            ]
          },
          "metadata": {},
          "execution_count": 12
        }
      ]
    },
    {
      "cell_type": "markdown",
      "source": [
        "###6. Write a Python program to remove a key from a dictionary."
      ],
      "metadata": {
        "id": "kwElE7uPmofu"
      }
    },
    {
      "cell_type": "code",
      "source": [
        "dicts = {1: 1, 2: 4, 3: 9, 4: 16, 5: 25}\n",
        "key = 5\n",
        "dicts.pop(key)\n",
        "dicts"
      ],
      "metadata": {
        "colab": {
          "base_uri": "https://localhost:8080/"
        },
        "id": "txLfuH8JmJKW",
        "outputId": "c1464616-25e8-4a53-ceae-c1ca6b1e4934"
      },
      "execution_count": 19,
      "outputs": [
        {
          "output_type": "execute_result",
          "data": {
            "text/plain": [
              "{1: 1, 2: 4, 3: 9, 4: 16}"
            ]
          },
          "metadata": {},
          "execution_count": 19
        }
      ]
    },
    {
      "cell_type": "markdown",
      "source": [
        "###7. Write a Python program to print all unique values in a dictionary.\n",
        "###Sample Data : [{\"V\":\"S001\"}, {\"V\": \"S002\"}, {\"VI\": \"S001\"}, {\"VI\": \"S005\"},{\"VII\":\"S005\"}, {\"V\":\"S009\"},{\"VIII\":\"S007\"}]\n",
        "###Expected Output : Unique Values: {'S005', 'S002', 'S007', 'S001', 'S009'}"
      ],
      "metadata": {
        "id": "qRNTqpdbnH7O"
      }
    },
    {
      "cell_type": "code",
      "source": [
        "data =  [{\"V\":\"S001\"}, {\"V\": \"S002\"}, {\"VI\": \"S001\"}, {\"VI\": \"S005\"},{\"VII\":\"S005\"}, {\"V\":\"S009\"},{\"VIII\":\"S007\"}]\n",
        "\n",
        "values = [v for dic in data for k, v in dic.items()]\n",
        "\n",
        "print(set(values))"
      ],
      "metadata": {
        "colab": {
          "base_uri": "https://localhost:8080/"
        },
        "id": "w5U3zBX0mqhn",
        "outputId": "2beaea4c-3ff2-4946-d74d-7d0f290e98b6"
      },
      "execution_count": 28,
      "outputs": [
        {
          "output_type": "stream",
          "name": "stdout",
          "text": [
            "{'S005', 'S007', 'S002', 'S001', 'S009'}\n"
          ]
        }
      ]
    },
    {
      "cell_type": "markdown",
      "source": [
        "###8. Write a Python program to create a dictionary from a string.\n",
        "###Note: Track the count of the letters from the string.\n",
        "###Sample string : 'w3resource'\n",
        "###Expected output: {'3': 1, 's': 1, 'r': 2, 'u': 1, 'w': 1, 'c': 1, 'e': 2, 'o': 1}"
      ],
      "metadata": {
        "id": "-zMKFwFmoyHS"
      }
    },
    {
      "cell_type": "code",
      "source": [
        "string = 'w3resource'\n",
        "\n",
        "dicts = {}\n",
        "\n",
        "for char in string:\n",
        "  if char not in dicts:\n",
        "    dicts[char] = 1\n",
        "  else:\n",
        "    dicts[char] += 1\n",
        "\n",
        "dicts"
      ],
      "metadata": {
        "colab": {
          "base_uri": "https://localhost:8080/"
        },
        "id": "EztJ8CcmnTvP",
        "outputId": "b0ff7058-b5fa-464d-84a1-ff866970a9cb"
      },
      "execution_count": 34,
      "outputs": [
        {
          "output_type": "execute_result",
          "data": {
            "text/plain": [
              "{'w': 1, '3': 1, 'r': 2, 'e': 2, 's': 1, 'o': 1, 'u': 1, 'c': 1}"
            ]
          },
          "metadata": {},
          "execution_count": 34
        }
      ]
    },
    {
      "cell_type": "markdown",
      "source": [
        "###9. Write a Python program to print a dictionary in table format."
      ],
      "metadata": {
        "id": "9rYDPMd9pjDh"
      }
    },
    {
      "cell_type": "code",
      "source": [
        "dicts = {\n",
        "    \"X\": \"S002\",\n",
        "    \"V\": \"S001\",\n",
        "    \"C\":\"S007\"\n",
        "}\n",
        "\n",
        "print(\" _____________________\")\n",
        "print(\"|   KEY   |   VALUE   |\")\n",
        "print(\" –––––––––––––––––––––\")\n",
        "for k, v in dicts.items():\n",
        "  print(f\"| {k}       | {v}      | \")\n",
        "print(\" –––––––––––––––––––––\")"
      ],
      "metadata": {
        "colab": {
          "base_uri": "https://localhost:8080/"
        },
        "id": "HUrF8OtIpRJK",
        "outputId": "df1e0a23-2bdd-4110-88e7-fb628f11f82f"
      },
      "execution_count": 45,
      "outputs": [
        {
          "output_type": "stream",
          "name": "stdout",
          "text": [
            " _____________________\n",
            "|   KEY   |   VALUE   |\n",
            " –––––––––––––––––––––\n",
            "| X       | S002      | \n",
            "| V       | S001      | \n",
            "| C       | S007      | \n",
            " –––––––––––––––––––––\n"
          ]
        }
      ]
    },
    {
      "cell_type": "markdown",
      "source": [
        "###10. Write a Python program to count the values associated with key in dictionary.\n",
        "###Sample data: = [{'id': 1, 'success': True, 'name': 'Lary'}, {'id': 2, 'success': False, 'name': 'Rabi'}, {'id': 3, 'success': True, 'name': 'Alex'}]\n",
        "###Expected result: Count of how many dictionaries have success as True"
      ],
      "metadata": {
        "id": "W8uXrweLrKt5"
      }
    },
    {
      "cell_type": "code",
      "source": [
        "count = 0\n",
        "data = [{'id': 1, 'success': True, 'name': 'Lary'},\n",
        "        {'id': 2, 'success': False, 'name': 'Rabi'},\n",
        "        {'id': 3, 'success': True, 'name': 'Alex'}]\n",
        "for dic in data:\n",
        "  for k, v in dic.items():\n",
        "    if k == 'success' and v == True:\n",
        "      count += 1\n",
        "\n",
        "count"
      ],
      "metadata": {
        "colab": {
          "base_uri": "https://localhost:8080/"
        },
        "id": "2kIIXG56qLtJ",
        "outputId": "03e4d839-3539-4058-d92d-d29f183376a8"
      },
      "execution_count": 46,
      "outputs": [
        {
          "output_type": "execute_result",
          "data": {
            "text/plain": [
              "2"
            ]
          },
          "metadata": {},
          "execution_count": 46
        }
      ]
    },
    {
      "cell_type": "markdown",
      "source": [
        "###11. Write a Python program to convert a list into a nested dictionary of keys."
      ],
      "metadata": {
        "id": "yZ_3q24ur23X"
      }
    },
    {
      "cell_type": "code",
      "source": [
        "lst = [1,2,3,4,5]\n",
        "\n",
        "dicts = {}\n",
        "\n",
        "temp = dicts\n",
        "\n",
        "for item in lst:\n",
        "  temp[item] = {}\n",
        "  temp = temp[item]\n",
        "\n",
        "\n",
        "dicts\n",
        "\n"
      ],
      "metadata": {
        "colab": {
          "base_uri": "https://localhost:8080/"
        },
        "id": "UUyly9Porvl4",
        "outputId": "136b4c94-d822-4c85-ccff-6d7d5432cf2f"
      },
      "execution_count": 54,
      "outputs": [
        {
          "output_type": "execute_result",
          "data": {
            "text/plain": [
              "{1: {2: {3: {4: {5: {}}}}}}"
            ]
          },
          "metadata": {},
          "execution_count": 54
        }
      ]
    },
    {
      "cell_type": "markdown",
      "source": [
        "###12. Write a Python program to check multiple keys exists in a dictionary."
      ],
      "metadata": {
        "id": "8aVvf5luu8nE"
      }
    },
    {
      "cell_type": "code",
      "source": [
        "keys = [\"V\", \"C\", \"A\"]\n",
        "dicts = {\n",
        "    \"X\": \"S002\",\n",
        "    \"V\": \"S001\",\n",
        "    \"C\":\"S007\"\n",
        "}\n",
        "\n",
        "for item in keys:\n",
        "  if item not in dicts:\n",
        "    print(\"All keys are not available\")"
      ],
      "metadata": {
        "colab": {
          "base_uri": "https://localhost:8080/"
        },
        "id": "O1BHb4ZYu_B9",
        "outputId": "9839e3f7-36b2-47dd-9697-7f2e71c76e86"
      },
      "execution_count": 56,
      "outputs": [
        {
          "output_type": "stream",
          "name": "stdout",
          "text": [
            "All keys are not available\n"
          ]
        }
      ]
    },
    {
      "cell_type": "markdown",
      "source": [
        "###13. Write a Python program to count number of items in a dictionary value that is a list."
      ],
      "metadata": {
        "id": "4VWeWpzdsi8w"
      }
    },
    {
      "cell_type": "code",
      "source": [
        "dicts = {\n",
        "    \"A\" : [1,2,3,4,5],\n",
        "    \"B\" : [4,1,3],\n",
        "    \"C\" : [1]\n",
        "}\n",
        "\n",
        "counts = {}\n",
        "\n",
        "for k, v in dicts.items():\n",
        "  counts[k] = len(v)\n",
        "\n",
        "counts"
      ],
      "metadata": {
        "colab": {
          "base_uri": "https://localhost:8080/"
        },
        "id": "9xar5avWskOs",
        "outputId": "191959a0-6c9f-444e-9d6f-a16ad2acc6c8"
      },
      "execution_count": 47,
      "outputs": [
        {
          "output_type": "execute_result",
          "data": {
            "text/plain": [
              "{'A': 5, 'B': 3, 'C': 1}"
            ]
          },
          "metadata": {},
          "execution_count": 47
        }
      ]
    },
    {
      "cell_type": "code",
      "source": [],
      "metadata": {
        "id": "hZu-bfpys1sh"
      },
      "execution_count": null,
      "outputs": []
    }
  ]
}
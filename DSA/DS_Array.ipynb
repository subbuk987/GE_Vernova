{
  "nbformat": 4,
  "nbformat_minor": 0,
  "metadata": {
    "colab": {
      "provenance": []
    },
    "kernelspec": {
      "name": "python3",
      "display_name": "Python 3"
    },
    "language_info": {
      "name": "python"
    }
  },
  "cells": [
    {
      "cell_type": "markdown",
      "source": [
        "# Arrays\n"
      ],
      "metadata": {
        "id": "qt8QgzLmcIf8"
      }
    },
    {
      "cell_type": "markdown",
      "source": [
        "### 1. Write a Python program to create an array of 5 integers and display the array items. Access individual element through indexes."
      ],
      "metadata": {
        "id": "XXwIwfXRcL4j"
      }
    },
    {
      "cell_type": "code",
      "execution_count": null,
      "metadata": {
        "colab": {
          "base_uri": "https://localhost:8080/"
        },
        "id": "UYPjwyF4b3YQ",
        "outputId": "97873f28-166b-4561-e962-1f2d7915565b"
      },
      "outputs": [
        {
          "output_type": "stream",
          "name": "stdout",
          "text": [
            "1\n",
            "2\n",
            "3\n",
            "4\n",
            "5\n",
            "1\n"
          ]
        }
      ],
      "source": [
        "arr = [1,2,3,4,5]\n",
        "for i in arr:\n",
        "  print(i)\n",
        "\n",
        "print(arr[0])  # Accessing with indices"
      ]
    },
    {
      "cell_type": "markdown",
      "source": [
        "### 2. Write a Python program to reverse the order of the items in the array.\n"
      ],
      "metadata": {
        "id": "NFrTIZ5_cqal"
      }
    },
    {
      "cell_type": "code",
      "source": [
        "print(arr[::-1])"
      ],
      "metadata": {
        "colab": {
          "base_uri": "https://localhost:8080/"
        },
        "id": "hNEehG56crdI",
        "outputId": "257c0b86-53d0-40fa-eac9-23a8f2431e06"
      },
      "execution_count": null,
      "outputs": [
        {
          "output_type": "stream",
          "name": "stdout",
          "text": [
            "[5, 4, 3, 2, 1]\n"
          ]
        }
      ]
    },
    {
      "cell_type": "markdown",
      "source": [
        "### 3. Write a Python program to get the number of occurrences of a specified element in an array."
      ],
      "metadata": {
        "id": "mJDEtG2mcyxY"
      }
    },
    {
      "cell_type": "code",
      "source": [
        "arr = [1,2,4,2,4,2,4,5,1,1,4,6]\n",
        "target = 4\n",
        "count = 0\n",
        "for _ in arr:\n",
        "  if _ == target:\n",
        "    count += 1\n",
        "print(count)"
      ],
      "metadata": {
        "id": "XuEDyqL3ct1b",
        "colab": {
          "base_uri": "https://localhost:8080/"
        },
        "outputId": "7f5527a3-a1db-4f02-c08e-788dac259caa"
      },
      "execution_count": 1,
      "outputs": [
        {
          "output_type": "stream",
          "name": "stdout",
          "text": [
            "4\n"
          ]
        }
      ]
    },
    {
      "cell_type": "markdown",
      "source": [
        "### 4. Write a Python program to remove the first occurrence of a specified element from an array."
      ],
      "metadata": {
        "id": "EzK7uCkTJ6u-"
      }
    },
    {
      "cell_type": "code",
      "source": [
        "arr = [1,2,4,2,4,2,4,5,1,1,4,6]\n",
        "target = 4\n",
        "for _ in arr:\n",
        "  if _ == target:\n",
        "    arr.remove(target)\n",
        "    break\n",
        "print(arr)"
      ],
      "metadata": {
        "colab": {
          "base_uri": "https://localhost:8080/"
        },
        "id": "UYn51UJ2KGxN",
        "outputId": "b731f955-bece-4778-c5ee-a84b6c142b5e"
      },
      "execution_count": 2,
      "outputs": [
        {
          "output_type": "stream",
          "name": "stdout",
          "text": [
            "[1, 2, 2, 4, 2, 4, 5, 1, 1, 4, 6]\n"
          ]
        }
      ]
    },
    {
      "cell_type": "code",
      "source": [],
      "metadata": {
        "id": "q4R9ma00K5eg"
      },
      "execution_count": null,
      "outputs": []
    }
  ]
}
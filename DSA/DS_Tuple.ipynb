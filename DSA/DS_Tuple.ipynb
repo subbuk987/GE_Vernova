{
  "nbformat": 4,
  "nbformat_minor": 0,
  "metadata": {
    "colab": {
      "provenance": []
    },
    "kernelspec": {
      "name": "python3",
      "display_name": "Python 3"
    },
    "language_info": {
      "name": "python"
    }
  },
  "cells": [
    {
      "cell_type": "markdown",
      "source": [
        "# Tuple\n"
      ],
      "metadata": {
        "id": "DJKGMEnHcCOX"
      }
    },
    {
      "cell_type": "markdown",
      "source": [
        "###1. Write a Python program to create a tuple."
      ],
      "metadata": {
        "id": "1ksWHJAqcMH-"
      }
    },
    {
      "cell_type": "code",
      "execution_count": 4,
      "metadata": {
        "colab": {
          "base_uri": "https://localhost:8080/"
        },
        "id": "eOC9wBG7b6UT",
        "outputId": "1e5b1199-5e02-4b8c-f3b9-d3669bc08d92"
      },
      "outputs": [
        {
          "output_type": "stream",
          "name": "stdout",
          "text": [
            "(1, 2, 3, 4, 5) (1, 2, 3, 4, 5)\n"
          ]
        }
      ],
      "source": [
        "tup = tuple([1,2,3,4,5])\n",
        "tupp = (1,2,3,4,5)\n",
        "print(tup,tupp)"
      ]
    },
    {
      "cell_type": "markdown",
      "source": [
        "###2. Write a Python program to create a tuple with different data types."
      ],
      "metadata": {
        "id": "J3E8iSw7ce5u"
      }
    },
    {
      "cell_type": "code",
      "source": [
        "tup = (1,3.14,'subbu',True)\n",
        "tup"
      ],
      "metadata": {
        "colab": {
          "base_uri": "https://localhost:8080/"
        },
        "id": "1b8ZCyFUcQbt",
        "outputId": "ae819dd3-5884-45ca-8a8b-bc56a93bded8"
      },
      "execution_count": 5,
      "outputs": [
        {
          "output_type": "execute_result",
          "data": {
            "text/plain": [
              "(1, 3.14, 'subbu', True)"
            ]
          },
          "metadata": {},
          "execution_count": 5
        }
      ]
    },
    {
      "cell_type": "markdown",
      "source": [
        "###3. Write a Python program to unpack a tuple in several variables."
      ],
      "metadata": {
        "id": "NHyWXqiNcpju"
      }
    },
    {
      "cell_type": "code",
      "source": [
        "integer, double, string, Bool = (1,3.14,'subbu',True)\n",
        "print(integer, double, string, Bool)"
      ],
      "metadata": {
        "colab": {
          "base_uri": "https://localhost:8080/"
        },
        "id": "4iG4CTIkclUt",
        "outputId": "618ab48e-037b-44e0-d05f-4cde39e1956a"
      },
      "execution_count": 6,
      "outputs": [
        {
          "output_type": "stream",
          "name": "stdout",
          "text": [
            "1 3.14 subbu True\n"
          ]
        }
      ]
    },
    {
      "cell_type": "markdown",
      "source": [
        "###4. Write a Python program to create the colon of a tuple."
      ],
      "metadata": {
        "id": "-krqDQRcc4fO"
      }
    },
    {
      "cell_type": "code",
      "source": [
        "from copy import deepcopy\n",
        "tup = (1,3.14,'subbu',True,[3])\n",
        "tupp = deepcopy(tup)\n",
        "tupp[4].append(5)\n",
        "print(tup,tupp)"
      ],
      "metadata": {
        "colab": {
          "base_uri": "https://localhost:8080/"
        },
        "id": "WG0RkIkuc1C1",
        "outputId": "6873b6db-b342-4a9d-e099-32416596c279"
      },
      "execution_count": 14,
      "outputs": [
        {
          "output_type": "stream",
          "name": "stdout",
          "text": [
            "(1, 3.14, 'subbu', True, [3]) (1, 3.14, 'subbu', True, [3, 5])\n"
          ]
        }
      ]
    },
    {
      "cell_type": "markdown",
      "source": [
        "###5. Write a Python program to find the repeated items of a tuple."
      ],
      "metadata": {
        "id": "D45YoP4Pd8cK"
      }
    },
    {
      "cell_type": "code",
      "source": [
        "tup = (1,3,5,5,2,6,31,1,5,7,3)\n",
        "repeated = set()\n",
        "seen = []\n",
        "for item in tup:\n",
        "  if item not in seen:\n",
        "    seen.append(item)\n",
        "  else:\n",
        "    repeated.add(item)\n",
        "repeated"
      ],
      "metadata": {
        "colab": {
          "base_uri": "https://localhost:8080/"
        },
        "id": "xLTmxliNdflf",
        "outputId": "7e9f9f86-22b6-4db0-df84-f77eaa2fc591"
      },
      "execution_count": 18,
      "outputs": [
        {
          "output_type": "execute_result",
          "data": {
            "text/plain": [
              "{1, 3, 5}"
            ]
          },
          "metadata": {},
          "execution_count": 18
        }
      ]
    },
    {
      "cell_type": "markdown",
      "source": [
        "###6. Write a Python program to check whether an element exists within a tuple."
      ],
      "metadata": {
        "id": "xRcLckQkewFn"
      }
    },
    {
      "cell_type": "code",
      "source": [
        "tup = (1,3,5,5,2,6,31,1,5,7,3)\n",
        "target = 31\n",
        "if target in tup:\n",
        "  print(True)"
      ],
      "metadata": {
        "colab": {
          "base_uri": "https://localhost:8080/"
        },
        "id": "nCgxnzuDemEA",
        "outputId": "8c94515b-9831-492d-ef8a-19e38db0e6ab"
      },
      "execution_count": 20,
      "outputs": [
        {
          "output_type": "stream",
          "name": "stdout",
          "text": [
            "True\n"
          ]
        }
      ]
    },
    {
      "cell_type": "markdown",
      "source": [
        "###7. Write a Python program to convert a list to a tuple."
      ],
      "metadata": {
        "id": "Utj3qhfse6tA"
      }
    },
    {
      "cell_type": "code",
      "source": [
        "lst = [1,2,3,4,5]\n",
        "tup = tuple(lst)\n",
        "tup"
      ],
      "metadata": {
        "colab": {
          "base_uri": "https://localhost:8080/"
        },
        "id": "brbl28b4e0d8",
        "outputId": "58ae176a-8d5c-45d9-cea9-fad770956344"
      },
      "execution_count": 21,
      "outputs": [
        {
          "output_type": "execute_result",
          "data": {
            "text/plain": [
              "(1, 2, 3, 4, 5)"
            ]
          },
          "metadata": {},
          "execution_count": 21
        }
      ]
    },
    {
      "cell_type": "markdown",
      "source": [
        "###8. Write a Python program to remove an item from a tuple."
      ],
      "metadata": {
        "id": "GAyKVyRBfBa_"
      }
    },
    {
      "cell_type": "code",
      "source": [
        "tup = (1,3,5,5,2,6,31,1,5,7,3)\n",
        "target = 31\n",
        "lst = list(tup)\n",
        "lst.remove(target)\n",
        "tup = tuple(lst)\n",
        "tup\n"
      ],
      "metadata": {
        "colab": {
          "base_uri": "https://localhost:8080/"
        },
        "id": "sqCYCc2le_Gs",
        "outputId": "55bc354a-23f5-4835-9ec1-bcd620858ae5"
      },
      "execution_count": 23,
      "outputs": [
        {
          "output_type": "execute_result",
          "data": {
            "text/plain": [
              "(1, 3, 5, 5, 2, 6, 1, 5, 7, 3)"
            ]
          },
          "metadata": {},
          "execution_count": 23
        }
      ]
    },
    {
      "cell_type": "markdown",
      "source": [
        "###9. Write a Python program to slice a tuple."
      ],
      "metadata": {
        "id": "A_C_gmzYfcYz"
      }
    },
    {
      "cell_type": "code",
      "source": [
        "tup = (1,3,5,5,2,6,31,1,5,7)\n",
        "print(f\"First Half {tup[:len(tup)//2]}\")"
      ],
      "metadata": {
        "colab": {
          "base_uri": "https://localhost:8080/"
        },
        "id": "j2eW11KifFdd",
        "outputId": "04dc0bb3-e22e-4afa-bd64-2ad787510a83"
      },
      "execution_count": 25,
      "outputs": [
        {
          "output_type": "stream",
          "name": "stdout",
          "text": [
            "First Half (1, 3, 5, 5, 2)\n"
          ]
        }
      ]
    },
    {
      "cell_type": "markdown",
      "source": [
        "###10. Write a Python program to reverse a tuple."
      ],
      "metadata": {
        "id": "S0W_lQdQfwKa"
      }
    },
    {
      "cell_type": "code",
      "source": [
        "tup = (1,3,5,5,2,6,31,1,5,7)\n",
        "tup = tup[::-1]\n",
        "tup"
      ],
      "metadata": {
        "colab": {
          "base_uri": "https://localhost:8080/"
        },
        "id": "qB3fFEW4fqOj",
        "outputId": "6cc2ca84-4efd-4cc8-cfa1-e632b66cce04"
      },
      "execution_count": 29,
      "outputs": [
        {
          "output_type": "execute_result",
          "data": {
            "text/plain": [
              "(7, 5, 1, 31, 6, 2, 5, 5, 3, 1)"
            ]
          },
          "metadata": {},
          "execution_count": 29
        }
      ]
    },
    {
      "cell_type": "code",
      "source": [],
      "metadata": {
        "id": "njGqEBBFfx6P"
      },
      "execution_count": null,
      "outputs": []
    }
  ]
}
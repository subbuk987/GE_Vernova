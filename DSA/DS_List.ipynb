{
  "nbformat": 4,
  "nbformat_minor": 0,
  "metadata": {
    "colab": {
      "provenance": []
    },
    "kernelspec": {
      "name": "python3",
      "display_name": "Python 3"
    },
    "language_info": {
      "name": "python"
    }
  },
  "cells": [
    {
      "cell_type": "markdown",
      "source": [
        "# List\n"
      ],
      "metadata": {
        "id": "hxTlbYzJNfPW"
      }
    },
    {
      "cell_type": "markdown",
      "source": [
        "### 1. Write a Python program to sum all the items in a list."
      ],
      "metadata": {
        "id": "_VPO4yyVNkc6"
      }
    },
    {
      "cell_type": "code",
      "execution_count": 4,
      "metadata": {
        "colab": {
          "base_uri": "https://localhost:8080/"
        },
        "id": "tO6HG3PrNcOc",
        "outputId": "691bf2de-4d4e-4d1e-b55b-89268179dae1"
      },
      "outputs": [
        {
          "output_type": "stream",
          "name": "stdout",
          "text": [
            "36\n"
          ]
        }
      ],
      "source": [
        "lst = [1,2,4,2,4,2,4,5,1,1,4,6]\n",
        "print(sum(lst))"
      ]
    },
    {
      "cell_type": "markdown",
      "source": [
        "### 2. Write a Python program to multiplies all the items in a list."
      ],
      "metadata": {
        "id": "Ut4_NmEcNog8"
      }
    },
    {
      "cell_type": "code",
      "source": [
        "lst = [1,2,4,2,4,2,4,5,1,1,4,6]\n",
        "product = 1\n",
        "for _ in lst:\n",
        "  product *= _\n",
        "\n",
        "print(product)"
      ],
      "metadata": {
        "colab": {
          "base_uri": "https://localhost:8080/"
        },
        "id": "77inWFQGNo2K",
        "outputId": "58bc5aac-51c1-4509-f27d-70f6f4d82151"
      },
      "execution_count": 5,
      "outputs": [
        {
          "output_type": "stream",
          "name": "stdout",
          "text": [
            "61440\n"
          ]
        }
      ]
    },
    {
      "cell_type": "markdown",
      "source": [
        "### 3. Write a Python program to get the smallest number from a list."
      ],
      "metadata": {
        "id": "NWL6npJtNqY6"
      }
    },
    {
      "cell_type": "code",
      "source": [
        "lst = [1,2,4,2,4,2,4,5,1,1,4,6]\n",
        "print(sorted(lst)[0])"
      ],
      "metadata": {
        "colab": {
          "base_uri": "https://localhost:8080/"
        },
        "id": "eCI46Rx9N3R9",
        "outputId": "4a4a76a3-79c3-4412-90a8-c21e9114497d"
      },
      "execution_count": 7,
      "outputs": [
        {
          "output_type": "stream",
          "name": "stdout",
          "text": [
            "1\n"
          ]
        }
      ]
    },
    {
      "cell_type": "markdown",
      "source": [
        "###4. Write a Python program to count the number of strings where the string length is 2 or more and the first and last character are same from a given list of strings.\n",
        "###Sample List : ['abc', 'xyz', 'aba', '1221']\n",
        "###Expected Result : 2"
      ],
      "metadata": {
        "id": "M0qt1yukOKD8"
      }
    },
    {
      "cell_type": "code",
      "source": [
        "lst = ['abc', 'xyz', 'aba', '1221']\n",
        "count = 0\n",
        "for string in lst:\n",
        "  if len(string) > 1 and string[0] == string[-1]:\n",
        "    count += 1\n",
        "print(count)"
      ],
      "metadata": {
        "colab": {
          "base_uri": "https://localhost:8080/"
        },
        "id": "0afkdOvTOAe_",
        "outputId": "7b774b7b-f8d7-48b1-e3ee-16fc3d474bb4"
      },
      "execution_count": 8,
      "outputs": [
        {
          "output_type": "stream",
          "name": "stdout",
          "text": [
            "2\n"
          ]
        }
      ]
    },
    {
      "cell_type": "markdown",
      "source": [
        "### 5. Write a Python program to get a list, sorted in increasing order by the last element in each tuple from a given list of non-empty tuples.\n",
        "###Sample List : [(2, 5), (1, 2), (4, 4), (2, 3), (2, 1)]\n",
        "###Expected Result : [(2, 1), (1, 2), (2, 3), (4, 4), (2, 5)]"
      ],
      "metadata": {
        "id": "FkJg6bDrP1IA"
      }
    },
    {
      "cell_type": "code",
      "source": [
        "lst = [(2, 5), (1, 2), (4, 4), (2, 3), (2, 1)]\n",
        "lst.sort(key = lambda x : x[1])\n",
        "print(lst)\n"
      ],
      "metadata": {
        "colab": {
          "base_uri": "https://localhost:8080/"
        },
        "id": "2VdkVmvsP4Ag",
        "outputId": "e4ca8bb5-7d53-4c75-9012-32ee94a37cc5"
      },
      "execution_count": 11,
      "outputs": [
        {
          "output_type": "stream",
          "name": "stdout",
          "text": [
            "[(2, 1), (1, 2), (2, 3), (4, 4), (2, 5)]\n"
          ]
        }
      ]
    },
    {
      "cell_type": "markdown",
      "source": [
        "### 6. Write a Python program to remove duplicates from a list."
      ],
      "metadata": {
        "id": "Sxm9aC2zQh2O"
      }
    },
    {
      "cell_type": "code",
      "source": [
        "lst = [1,2,4,2,4,2,4,5,1,1,4,6]\n",
        "lst= list(set(lst))\n",
        "print(lst)"
      ],
      "metadata": {
        "colab": {
          "base_uri": "https://localhost:8080/"
        },
        "id": "DzSHbheyQSHF",
        "outputId": "a792bce7-8ffb-49c3-aae3-aa6664a34fa5"
      },
      "execution_count": 12,
      "outputs": [
        {
          "output_type": "stream",
          "name": "stdout",
          "text": [
            "[1, 2, 4, 5, 6]\n"
          ]
        }
      ]
    },
    {
      "cell_type": "markdown",
      "source": [
        "### 7. Write a Python program to clone or copy a list."
      ],
      "metadata": {
        "id": "WKMGVKb5Qsy_"
      }
    },
    {
      "cell_type": "code",
      "source": [
        "lst = [1,2,4,2,4,2,4,5,1,1,4,6]\n",
        "lst_new = lst.copy()\n",
        "\n",
        "lst_new\n"
      ],
      "metadata": {
        "colab": {
          "base_uri": "https://localhost:8080/"
        },
        "id": "vHPZwR3jQoOE",
        "outputId": "4325b057-dcdf-4125-a64e-9375f6dd263a"
      },
      "execution_count": 17,
      "outputs": [
        {
          "output_type": "execute_result",
          "data": {
            "text/plain": [
              "[1, 2, 4, 2, 4, 2, 4, 5, 1, 1, 4, 6]"
            ]
          },
          "metadata": {},
          "execution_count": 17
        }
      ]
    },
    {
      "cell_type": "markdown",
      "source": [
        "### 8. Write a Python program to find the list of words that are longer than n from a given list of words."
      ],
      "metadata": {
        "id": "D5ZId3tlQ_kk"
      }
    },
    {
      "cell_type": "code",
      "source": [
        "lst = ['asfvd', 'asgrds', 'ad', 'svfsd', 'sdf']\n",
        "n = int(input(\"Value for n:\"))\n",
        "string_list = []\n",
        "for string in lst:\n",
        "  if len(string) > n:\n",
        "    string_list.append(string)\n",
        "print(string_list)"
      ],
      "metadata": {
        "colab": {
          "base_uri": "https://localhost:8080/"
        },
        "id": "I0DJQ3CQQzBC",
        "outputId": "4551e92e-faf3-4098-982a-42d9c2301c6f"
      },
      "execution_count": 20,
      "outputs": [
        {
          "output_type": "stream",
          "name": "stdout",
          "text": [
            "Value for n:2\n",
            "['asfvd', 'asgrds', 'svfsd', 'sdf']\n"
          ]
        }
      ]
    },
    {
      "cell_type": "markdown",
      "source": [
        "### 9. Write a Python function that takes two lists and returns True if they have at least one common member."
      ],
      "metadata": {
        "id": "ILb3oW55Rj3N"
      }
    },
    {
      "cell_type": "code",
      "source": [
        "lst_1 = ['abc', 'bcd', 'asd', 'qwe', 'aab']\n",
        "lst_2 = ['sdf', 'adfg', 'asd', 'ass', 'wdd']\n",
        "longer_list_size = len(lst_1) if len(lst_1) > len(lst_2) else len(lst_2)\n",
        "for i in range(longer_list_size):\n",
        "  if lst_1[i] == lst_2[i]:\n",
        "    print(True)\n",
        "    break\n",
        "\n"
      ],
      "metadata": {
        "colab": {
          "base_uri": "https://localhost:8080/"
        },
        "id": "IvceUg3PRY-H",
        "outputId": "9e45cbce-d248-4339-b8fe-64876d1d082c"
      },
      "execution_count": 21,
      "outputs": [
        {
          "output_type": "stream",
          "name": "stdout",
          "text": [
            "True\n"
          ]
        }
      ]
    },
    {
      "cell_type": "markdown",
      "source": [
        "### 10. Write a Python program to print a specified list after removing the 0th, 4th and 5th elements.\n",
        "###Sample List : ['Red', 'Green', 'White', 'Black', 'Pink', 'Yellow']\n",
        "###Expected Output : ['Green', 'White', 'Black']"
      ],
      "metadata": {
        "id": "AfYzPspwTLKa"
      }
    },
    {
      "cell_type": "code",
      "source": [
        "lst = ['Red', 'Green', 'White', 'Black', 'Pink', 'Yellow']\n",
        "indices = [0,4,5]\n",
        "new_lst = []\n",
        "\n",
        "for i in range(len(lst)):\n",
        "  if i not in indices:\n",
        "    new_lst.append(lst[i])\n",
        "\n",
        "print(new_lst)"
      ],
      "metadata": {
        "colab": {
          "base_uri": "https://localhost:8080/"
        },
        "id": "_B5X8x3PTQwX",
        "outputId": "db37cd3f-5c29-4f97-b262-76da380a6e0d"
      },
      "execution_count": 24,
      "outputs": [
        {
          "output_type": "stream",
          "name": "stdout",
          "text": [
            "['Green', 'White', 'Black']\n"
          ]
        }
      ]
    },
    {
      "cell_type": "markdown",
      "source": [
        "### 11. Write a Python program to generate all permutations of a list in Python."
      ],
      "metadata": {
        "id": "UT1Yj2TNUG8E"
      }
    },
    {
      "cell_type": "code",
      "source": [
        "def generate_permutations(lst):\n",
        "  for i in range(len(lst)):\n",
        "    for j in range(i,len(lst)):\n",
        "      print(i,j)\n",
        "\n",
        "lst = [1,2,3,4,5,6]\n",
        "generate_permutations(lst)\n"
      ],
      "metadata": {
        "colab": {
          "base_uri": "https://localhost:8080/"
        },
        "id": "wzXwaGJYTkK8",
        "outputId": "32541c8d-3989-4b49-9c09-b635e7a37b5c"
      },
      "execution_count": 30,
      "outputs": [
        {
          "output_type": "stream",
          "name": "stdout",
          "text": [
            "0 0\n",
            "0 1\n",
            "0 2\n",
            "0 3\n",
            "0 4\n",
            "0 5\n",
            "1 1\n",
            "1 2\n",
            "1 3\n",
            "1 4\n",
            "1 5\n",
            "2 2\n",
            "2 3\n",
            "2 4\n",
            "2 5\n",
            "3 3\n",
            "3 4\n",
            "3 5\n",
            "4 4\n",
            "4 5\n",
            "5 5\n"
          ]
        }
      ]
    },
    {
      "cell_type": "markdown",
      "source": [
        "### 12. Write a Python program to get the difference between the two lists."
      ],
      "metadata": {
        "id": "nDcxGkC8VGHE"
      }
    },
    {
      "cell_type": "code",
      "source": [
        "lst_1 = ['abc', 'bcd', 'asd', 'qwe', 'aab']\n",
        "lst_2 = ['sdf', 'adfg', 'asd', 'ass', 'wdd']\n",
        "diff_lst = []\n",
        "\n",
        "for string in lst_1:\n",
        "  if string not in lst_2:\n",
        "    diff_lst.append(string)\n",
        "\n",
        "print(diff_lst)"
      ],
      "metadata": {
        "colab": {
          "base_uri": "https://localhost:8080/"
        },
        "id": "OZ9YoVjKUqhR",
        "outputId": "14b2c815-49a8-4e18-8bc2-c0865ce3a784"
      },
      "execution_count": 31,
      "outputs": [
        {
          "output_type": "stream",
          "name": "stdout",
          "text": [
            "['abc', 'bcd', 'qwe', 'aab']\n"
          ]
        }
      ]
    },
    {
      "cell_type": "markdown",
      "source": [
        "###13. Write a Python program to append a list to the second list."
      ],
      "metadata": {
        "id": "DVjuFrc6Vh3_"
      }
    },
    {
      "cell_type": "code",
      "source": [
        "lst_1 = ['abc', 'bcd', 'asd', 'qwe', 'aab']\n",
        "lst_2 = ['sdf', 'adfg', 'asd', 'ass', 'wdd']\n",
        "for string in lst_1:\n",
        "  lst_2.append(string)\n",
        "\n",
        "lst_2"
      ],
      "metadata": {
        "colab": {
          "base_uri": "https://localhost:8080/"
        },
        "id": "G-ZOK8_PVdSy",
        "outputId": "c4f06846-b2dd-455e-e75f-07c80202d3f1"
      },
      "execution_count": 33,
      "outputs": [
        {
          "output_type": "execute_result",
          "data": {
            "text/plain": [
              "['sdf', 'adfg', 'asd', 'ass', 'wdd', 'abc', 'bcd', 'asd', 'qwe', 'aab']"
            ]
          },
          "metadata": {},
          "execution_count": 33
        }
      ]
    },
    {
      "cell_type": "markdown",
      "source": [
        "### 14. Write a python program to check whether two lists are circularly identical."
      ],
      "metadata": {
        "id": "VJ_-Min3V8so"
      }
    },
    {
      "cell_type": "code",
      "source": [
        "a = [1,2,3,4,5]\n",
        "b = [3,4,5,1,2]\n",
        "\n",
        "if str(a)[1:-1] in str(b * 2)[1:-1]:\n",
        "  print (True)\n",
        "else:\n",
        "  print(False)"
      ],
      "metadata": {
        "colab": {
          "base_uri": "https://localhost:8080/"
        },
        "id": "K512WV2dVluE",
        "outputId": "8ad0b5b7-2bcc-4c48-d183-122395ad94a3"
      },
      "execution_count": 36,
      "outputs": [
        {
          "output_type": "stream",
          "name": "stdout",
          "text": [
            "True\n"
          ]
        }
      ]
    },
    {
      "cell_type": "markdown",
      "source": [
        "### 15. Write a Python program to find common items from two lists."
      ],
      "metadata": {
        "id": "zfrKciEMZHwR"
      }
    },
    {
      "cell_type": "code",
      "source": [
        "lst_1 = ['abc', 'bcd', 'asd', 'qwe', 'aab']\n",
        "lst_2 = ['sdf', 'adfg', 'asd', 'ass', 'wdd']\n",
        "new_lst = []\n",
        "\n",
        "for string in lst_1:\n",
        "  if string in lst_2:\n",
        "    new_lst.append(string)\n",
        "new_lst"
      ],
      "metadata": {
        "colab": {
          "base_uri": "https://localhost:8080/"
        },
        "id": "BB5ouT_LX8ID",
        "outputId": "d5e56e01-915d-47d1-e70d-39a65eb006b0"
      },
      "execution_count": 39,
      "outputs": [
        {
          "output_type": "execute_result",
          "data": {
            "text/plain": [
              "['asd']"
            ]
          },
          "metadata": {},
          "execution_count": 39
        }
      ]
    },
    {
      "cell_type": "markdown",
      "source": [
        "### 16. Write a Python program to split a list based on first character of word."
      ],
      "metadata": {
        "id": "tGA8bA6EZczY"
      }
    },
    {
      "cell_type": "code",
      "source": [
        "lst = [\"apple\", \"banana\", \"apricot\", \"blueberry\", \"cherry\", \"avocado\", \"carrot\"]\n",
        "char_dict = {}\n",
        "\n",
        "for string in lst:\n",
        "  if string[0] in char_dict:\n",
        "    char_dict[string[0]].append(string)\n",
        "  else:\n",
        "    char_dict[string[0]] = [string]\n",
        "\n",
        "char_dict"
      ],
      "metadata": {
        "colab": {
          "base_uri": "https://localhost:8080/"
        },
        "id": "DfBdAP7xZTcB",
        "outputId": "67bbe98d-53c9-4da7-9026-2e4da78c419b"
      },
      "execution_count": 41,
      "outputs": [
        {
          "output_type": "execute_result",
          "data": {
            "text/plain": [
              "{'a': ['apple', 'apricot', 'avocado'],\n",
              " 'b': ['banana', 'blueberry'],\n",
              " 'c': ['cherry', 'carrot']}"
            ]
          },
          "metadata": {},
          "execution_count": 41
        }
      ]
    },
    {
      "cell_type": "markdown",
      "source": [
        "###17. Write a Python program to remove duplicates from a list of lists.\n",
        "###Sample list : [[10, 20], [40], [30, 56, 25], [10, 20], [33], [40]]\n",
        "###New List : [[10, 20], [30, 56, 25], [33], [40]]"
      ],
      "metadata": {
        "id": "Z9UkIHfJaXwR"
      }
    },
    {
      "cell_type": "code",
      "source": [
        "lst = [[10, 20], [40], [30, 56, 25], [10, 20], [33], [40]]\n",
        "\n",
        "new_lst = []\n",
        "\n",
        "for idx, item in enumerate(lst):\n",
        "  if item not in lst[idx+1:] and item not in new_lst:\n",
        "    new_lst.append(item)\n",
        "\n",
        "new_lst\n",
        "\n"
      ],
      "metadata": {
        "colab": {
          "base_uri": "https://localhost:8080/"
        },
        "id": "Pox8IFYXaGq8",
        "outputId": "0ea76017-9228-4572-e749-e8b373f819ba"
      },
      "execution_count": 47,
      "outputs": [
        {
          "output_type": "execute_result",
          "data": {
            "text/plain": [
              "[[30, 56, 25], [10, 20], [33], [40]]"
            ]
          },
          "metadata": {},
          "execution_count": 47
        }
      ]
    },
    {
      "cell_type": "code",
      "source": [],
      "metadata": {
        "id": "HuPyHG5ma9Hb"
      },
      "execution_count": null,
      "outputs": []
    }
  ]
}
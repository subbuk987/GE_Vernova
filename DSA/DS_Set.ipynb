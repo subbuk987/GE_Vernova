{
  "nbformat": 4,
  "nbformat_minor": 0,
  "metadata": {
    "colab": {
      "provenance": []
    },
    "kernelspec": {
      "name": "python3",
      "display_name": "Python 3"
    },
    "language_info": {
      "name": "python"
    }
  },
  "cells": [
    {
      "cell_type": "markdown",
      "source": [
        "# Sets\n"
      ],
      "metadata": {
        "id": "qI-A5u4lgA4M"
      }
    },
    {
      "cell_type": "markdown",
      "source": [
        "###1. Write a Python program to create a set."
      ],
      "metadata": {
        "id": "l80wpCGlgDAW"
      }
    },
    {
      "cell_type": "code",
      "execution_count": 2,
      "metadata": {
        "colab": {
          "base_uri": "https://localhost:8080/"
        },
        "id": "uz0D0FWpf8h6",
        "outputId": "1b06b276-2b8b-4b8f-fcb3-5e1a9de2be9d"
      },
      "outputs": [
        {
          "output_type": "execute_result",
          "data": {
            "text/plain": [
              "{1, 2, 3, 4, 5}"
            ]
          },
          "metadata": {},
          "execution_count": 2
        }
      ],
      "source": [
        "st = set([1,2,3,4,5])\n",
        "st"
      ]
    },
    {
      "cell_type": "markdown",
      "source": [
        "###2. Write a Python program to iteration over sets."
      ],
      "metadata": {
        "id": "ds60aU8zgUcR"
      }
    },
    {
      "cell_type": "code",
      "source": [
        "st = set([1,2,3,4,5])\n",
        "for item in st:\n",
        "  print(item)"
      ],
      "metadata": {
        "colab": {
          "base_uri": "https://localhost:8080/"
        },
        "id": "hMGsoxEUgIbC",
        "outputId": "0bd45401-f2a1-44d7-8b48-973a1c8520c8"
      },
      "execution_count": 12,
      "outputs": [
        {
          "output_type": "stream",
          "name": "stdout",
          "text": [
            "1\n",
            "2\n",
            "3\n",
            "4\n",
            "5\n"
          ]
        }
      ]
    },
    {
      "cell_type": "markdown",
      "source": [
        "###3. Write a Python program to add member(s) in a set."
      ],
      "metadata": {
        "id": "edbPjQ_4gfhC"
      }
    },
    {
      "cell_type": "code",
      "source": [
        "st = set([1,2,3,4,5])\n",
        "sum = 0\n",
        "for item in st:\n",
        "  sum += item\n",
        "\n",
        "print(sum)"
      ],
      "metadata": {
        "colab": {
          "base_uri": "https://localhost:8080/"
        },
        "id": "w9rkM8YwgXtB",
        "outputId": "e9d786fd-c4df-4f5b-9066-7ff67d090be6"
      },
      "execution_count": 13,
      "outputs": [
        {
          "output_type": "stream",
          "name": "stdout",
          "text": [
            "15\n"
          ]
        }
      ]
    },
    {
      "cell_type": "markdown",
      "source": [
        "###4. Write a Python program to remove item(s) from set"
      ],
      "metadata": {
        "id": "wFfHOreJgoR_"
      }
    },
    {
      "cell_type": "code",
      "source": [
        "st = set([1,2,3,4,5])\n",
        "st.remove(5)\n",
        "st"
      ],
      "metadata": {
        "colab": {
          "base_uri": "https://localhost:8080/"
        },
        "id": "QYxO2Sn2gmAP",
        "outputId": "36fda966-f8c4-4ad8-86c8-e5346975264b"
      },
      "execution_count": 15,
      "outputs": [
        {
          "output_type": "execute_result",
          "data": {
            "text/plain": [
              "{1, 2, 3, 4}"
            ]
          },
          "metadata": {},
          "execution_count": 15
        }
      ]
    },
    {
      "cell_type": "markdown",
      "source": [
        "###5. Write a Python program to remove an item from a set if it is present in the set."
      ],
      "metadata": {
        "id": "LpARyPuXg8Nb"
      }
    },
    {
      "cell_type": "code",
      "source": [
        "st = set([1,2,3,4,5])\n",
        "st.clear()\n",
        "st"
      ],
      "metadata": {
        "colab": {
          "base_uri": "https://localhost:8080/"
        },
        "id": "a2v8A4Adgq3m",
        "outputId": "2a52c1dd-5a50-4ef7-c33f-0f173f89ab87"
      },
      "execution_count": 16,
      "outputs": [
        {
          "output_type": "execute_result",
          "data": {
            "text/plain": [
              "set()"
            ]
          },
          "metadata": {},
          "execution_count": 16
        }
      ]
    },
    {
      "cell_type": "markdown",
      "source": [
        "###6. Write a Python program to create an intersection of sets."
      ],
      "metadata": {
        "id": "btYp5tufhG0M"
      }
    },
    {
      "cell_type": "code",
      "source": [
        "st1 = set([1,2,3,4,5])\n",
        "st2 = set([3,4,5,6,7])\n",
        "print(st1.intersection(st2))"
      ],
      "metadata": {
        "colab": {
          "base_uri": "https://localhost:8080/"
        },
        "id": "ygFJ_u30g_BM",
        "outputId": "1ab9066f-d23e-4b22-cc58-2f90031b5e2b"
      },
      "execution_count": 17,
      "outputs": [
        {
          "output_type": "stream",
          "name": "stdout",
          "text": [
            "{3, 4, 5}\n"
          ]
        }
      ]
    },
    {
      "cell_type": "markdown",
      "source": [
        "###7. Write a Python program to create a union of sets."
      ],
      "metadata": {
        "id": "eOmp_HwyhcMr"
      }
    },
    {
      "cell_type": "code",
      "source": [
        "st1 = set([1,2,3,4,5])\n",
        "st2 = set([3,4,5,6,7])\n",
        "print(st1.union(st2))"
      ],
      "metadata": {
        "colab": {
          "base_uri": "https://localhost:8080/"
        },
        "id": "q0IZh_gvhWMm",
        "outputId": "b58ff7c0-c0cb-4e6a-c624-e4720aff9f84"
      },
      "execution_count": 18,
      "outputs": [
        {
          "output_type": "stream",
          "name": "stdout",
          "text": [
            "{1, 2, 3, 4, 5, 6, 7}\n"
          ]
        }
      ]
    },
    {
      "cell_type": "markdown",
      "source": [
        "###8. Write a Python program to create set difference."
      ],
      "metadata": {
        "id": "IJT9-Ou0hn6X"
      }
    },
    {
      "cell_type": "code",
      "source": [
        "st1 = set([1,2,3,4,5])\n",
        "st2 = set([3,4,5,6,7])\n",
        "print(st1.difference(st2))"
      ],
      "metadata": {
        "colab": {
          "base_uri": "https://localhost:8080/"
        },
        "id": "wSxzt8jChfOA",
        "outputId": "a2575bbb-6d6b-49e3-a8e8-8ab691e47e4c"
      },
      "execution_count": 19,
      "outputs": [
        {
          "output_type": "stream",
          "name": "stdout",
          "text": [
            "{1, 2}\n"
          ]
        }
      ]
    },
    {
      "cell_type": "markdown",
      "source": [
        "###9. Write a Python program to create a symmetric difference."
      ],
      "metadata": {
        "id": "AtGajTp5hqlh"
      }
    },
    {
      "cell_type": "code",
      "source": [
        "st1 = set([1,2,3,4,5])\n",
        "st2 = set([3,4,5,6,7])\n",
        "print(st1.symmetric_difference(st2))"
      ],
      "metadata": {
        "colab": {
          "base_uri": "https://localhost:8080/"
        },
        "id": "l1nL8ha_hhcd",
        "outputId": "d4ae34d9-594d-4f0e-dc2c-e1399bcf8b5a"
      },
      "execution_count": 20,
      "outputs": [
        {
          "output_type": "stream",
          "name": "stdout",
          "text": [
            "{1, 2, 6, 7}\n"
          ]
        }
      ]
    },
    {
      "cell_type": "markdown",
      "source": [
        "###10. Write a Python program to clear a set."
      ],
      "metadata": {
        "id": "9SBQutUJhtjk"
      }
    },
    {
      "cell_type": "code",
      "source": [
        "st = set([1,2,3,4,5])\n",
        "st.clear()\n",
        "st"
      ],
      "metadata": {
        "colab": {
          "base_uri": "https://localhost:8080/"
        },
        "id": "8uNmEygFhjMc",
        "outputId": "5631ba7b-e4c9-4099-a898-e8f9b40f3d0e"
      },
      "execution_count": 27,
      "outputs": [
        {
          "output_type": "execute_result",
          "data": {
            "text/plain": [
              "set()"
            ]
          },
          "metadata": {},
          "execution_count": 27
        }
      ]
    },
    {
      "cell_type": "markdown",
      "source": [
        "###11. Write a Python program to use of frozensets."
      ],
      "metadata": {
        "id": "IHaT526chyq8"
      }
    },
    {
      "cell_type": "code",
      "source": [
        "fs = frozenset([1,2,3,4,5])\n",
        "fs\n"
      ],
      "metadata": {
        "colab": {
          "base_uri": "https://localhost:8080/"
        },
        "id": "GT9XdOLmhwNb",
        "outputId": "8c8c9a3c-35e9-498f-de1d-d258338819d2"
      },
      "execution_count": 28,
      "outputs": [
        {
          "output_type": "execute_result",
          "data": {
            "text/plain": [
              "frozenset({1, 2, 3, 4, 5})"
            ]
          },
          "metadata": {},
          "execution_count": 28
        }
      ]
    },
    {
      "cell_type": "markdown",
      "source": [
        "###12. Write a Python program to find maximum and the minimum value in a set."
      ],
      "metadata": {
        "id": "P83AVoHWib8o"
      }
    },
    {
      "cell_type": "code",
      "source": [
        "st = set([1,2,3,4,5,6])\n",
        "print(min(st),max(st))"
      ],
      "metadata": {
        "colab": {
          "base_uri": "https://localhost:8080/"
        },
        "id": "ocnniYORiEqg",
        "outputId": "d8a3ce76-5a32-42c7-b9c9-cbf1ea150875"
      },
      "execution_count": 29,
      "outputs": [
        {
          "output_type": "stream",
          "name": "stdout",
          "text": [
            "1 6\n"
          ]
        }
      ]
    },
    {
      "cell_type": "code",
      "source": [],
      "metadata": {
        "id": "p-SzqcjTiiY6"
      },
      "execution_count": null,
      "outputs": []
    }
  ]
}